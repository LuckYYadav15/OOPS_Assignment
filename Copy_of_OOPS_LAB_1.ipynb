{
  "nbformat": 4,
  "nbformat_minor": 0,
  "metadata": {
    "colab": {
      "name": "Copy of OOPS_LAB_1.ipynb",
      "provenance": [],
      "mount_file_id": "1RP1egNyVTC0Eh1haNPQMgcEsIWSZv30x",
      "authorship_tag": "ABX9TyNTKon81Bk/dQXrL006ACR2",
      "include_colab_link": true
    },
    "kernelspec": {
      "name": "python3",
      "display_name": "Python 3"
    },
    "language_info": {
      "name": "python"
    }
  },
  "cells": [
    {
      "cell_type": "markdown",
      "metadata": {
        "id": "view-in-github",
        "colab_type": "text"
      },
      "source": [
        "<a href=\"https://colab.research.google.com/github/LuckYYadav15/OOPS_Assignment/blob/main/Copy_of_OOPS_LAB_1.ipynb\" target=\"_parent\"><img src=\"https://colab.research.google.com/assets/colab-badge.svg\" alt=\"Open In Colab\"/></a>"
      ]
    },
    {
      "cell_type": "code",
      "metadata": {
        "colab": {
          "base_uri": "https://localhost:8080/"
        },
        "id": "ooHTs6hsmPqW",
        "outputId": "140df4c5-2e9f-4e54-c61b-ff35d748c38e"
      },
      "source": [
        "#Program-1\n",
        "def leap(a):\n",
        "  if (a % 4) == 0:\n",
        "    if (a % 100) == 0:\n",
        "      if (a % 400) == 0:\n",
        "        return True\n",
        "      else:\n",
        "        return False\n",
        "    else:\n",
        "      return True\n",
        "  else:\n",
        "    return False\n",
        "a = int(input(\"enter year: \"))\n",
        "leap(a)"
      ],
      "execution_count": null,
      "outputs": [
        {
          "name": "stdout",
          "output_type": "stream",
          "text": [
            "enter year: 1900\n"
          ]
        },
        {
          "output_type": "execute_result",
          "data": {
            "text/plain": [
              "False"
            ]
          },
          "metadata": {},
          "execution_count": 11
        }
      ]
    },
    {
      "cell_type": "code",
      "metadata": {
        "colab": {
          "base_uri": "https://localhost:8080/"
        },
        "id": "kpT3bORvpw5f",
        "outputId": "bc17c7b0-4be8-437b-8314-a705bbcceebc"
      },
      "source": [
        "#Program-2\n",
        "def nature(a):\n",
        "  if (a % 2 != 0):\n",
        "    print(\"Weird\")\n",
        "  elif (a % 2 == 0 and a in range(1, 6)):\n",
        "    print(\"Not Weird\")\n",
        "  elif (a % 2 == 0 and a in range(6, 20)):\n",
        "    print(\"Weird\")\n",
        "  else:\n",
        "    print(\"Not Weird\")\n",
        "a = int(input(\"Enter number: \"))\n",
        "nature(a)"
      ],
      "execution_count": 25,
      "outputs": [
        {
          "output_type": "stream",
          "name": "stdout",
          "text": [
            "Enter number: 8\n",
            "Weird\n"
          ]
        }
      ]
    },
    {
      "cell_type": "code",
      "metadata": {
        "colab": {
          "base_uri": "https://localhost:8080/"
        },
        "id": "KlIrPxQI-nMc",
        "outputId": "f41c61b6-2cbd-47b6-ab59-d5bd5058800e"
      },
      "source": [
        "#Problem-3\n",
        "def function():\n",
        "  n = int(input(\"Enter size of list: \"))\n",
        "  Arrivals = []\n",
        "  for i in range(0, n):\n",
        "    temp = input()\n",
        "    Arrivals.append(temp)\n",
        "  n = len(Arrivals)\n",
        "  l = int((n-1)/2)\n",
        "  for i in range(l, n-1):\n",
        "     print(Arrivals[i]+\" is fashionably late.\")\n",
        "\n",
        "function()"
      ],
      "execution_count": 15,
      "outputs": [
        {
          "output_type": "stream",
          "name": "stdout",
          "text": [
            "Enter size of list: 7\n",
            "aman\n",
            "charlie\n",
            "deepak\n",
            "karan\n",
            "lokesh\n",
            "manish\n",
            "Pranay\n",
            "karan is fashionably late.\n",
            "lokesh is fashionably late.\n",
            "manish is fashionably late.\n"
          ]
        }
      ]
    },
    {
      "cell_type": "code",
      "metadata": {
        "id": "WB5kM8YLEGWw",
        "colab": {
          "base_uri": "https://localhost:8080/"
        },
        "outputId": "703941a4-eb45-443e-a04d-bf7a5b1ba113"
      },
      "source": [
        "#Problem-4\n",
        "from array import array\n",
        "def fun(n, val):\n",
        "  \n",
        "  arr = []\n",
        "  for i in range(0, n):\n",
        "    temp = input()\n",
        "    arr.append(temp)\n",
        "    for i in range(n):\n",
        "      arr[i] = arr[i].lower()\n",
        "    if any(val in word for word in arr):\n",
        "      print(f\"{val} is present\")\n",
        "    else:\n",
        "      print(f\"{val} is not present\")\n",
        "\n",
        "n = int(input(\"Enter size of String: \"))\n",
        "value = input(\"Enter value to be searched: \")\n",
        "value = value.lower()\n",
        "fun(n, value)"
      ],
      "execution_count": 24,
      "outputs": [
        {
          "output_type": "stream",
          "name": "stdout",
          "text": [
            "Enter size of String: 1\n",
            "Enter value to be searched: ClOSed\n",
            "this shop is cLosEd\n",
            "closed is present\n"
          ]
        }
      ]
    },
    {
      "cell_type": "code",
      "metadata": {
        "colab": {
          "base_uri": "https://localhost:8080/"
        },
        "id": "hDjGzwlAT6jP",
        "outputId": "57949477-979f-4119-e02a-848a192f569d"
      },
      "source": [
        "#Problem-5\n",
        "bp = int(input())\n",
        "da = 0.4*bp\n",
        "hra = 0.2*bp\n",
        "gp = bp+da+hra\n",
        "print(gp)"
      ],
      "execution_count": null,
      "outputs": [
        {
          "output_type": "stream",
          "name": "stdout",
          "text": [
            "100\n",
            "160.0\n"
          ]
        }
      ]
    }
  ]
}