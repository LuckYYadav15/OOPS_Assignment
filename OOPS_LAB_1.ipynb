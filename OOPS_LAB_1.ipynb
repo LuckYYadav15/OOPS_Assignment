{
  "nbformat": 4,
  "nbformat_minor": 0,
  "metadata": {
    "colab": {
      "name": "OOPS_LAB_1.ipynb",
      "provenance": [],
      "authorship_tag": "ABX9TyNugJdwvCrgt+tLuNu14gON",
      "include_colab_link": true
    },
    "kernelspec": {
      "name": "python3",
      "display_name": "Python 3"
    },
    "language_info": {
      "name": "python"
    }
  },
  "cells": [
    {
      "cell_type": "markdown",
      "metadata": {
        "id": "view-in-github",
        "colab_type": "text"
      },
      "source": [
        "<a href=\"https://colab.research.google.com/github/LuckYYadav15/OOPS_Assignment/blob/main/OOPS_LAB_1.ipynb\" target=\"_parent\"><img src=\"https://colab.research.google.com/assets/colab-badge.svg\" alt=\"Open In Colab\"/></a>"
      ]
    },
    {
      "cell_type": "code",
      "metadata": {
        "colab": {
          "base_uri": "https://localhost:8080/"
        },
        "id": "ooHTs6hsmPqW",
        "outputId": "140df4c5-2e9f-4e54-c61b-ff35d748c38e"
      },
      "source": [
        "#Program-1\n",
        "def leap(a):\n",
        "  if (a % 4) == 0:\n",
        "    if (a % 100) == 0:\n",
        "      if (a % 400) == 0:\n",
        "        return True\n",
        "      else:\n",
        "        return False\n",
        "    else:\n",
        "      return True\n",
        "  else:\n",
        "    return False\n",
        "a = int(input(\"enter year: \"))\n",
        "leap(a)"
      ],
      "execution_count": 11,
      "outputs": [
        {
          "name": "stdout",
          "output_type": "stream",
          "text": [
            "enter year: 1900\n"
          ]
        },
        {
          "output_type": "execute_result",
          "data": {
            "text/plain": [
              "False"
            ]
          },
          "metadata": {},
          "execution_count": 11
        }
      ]
    },
    {
      "cell_type": "code",
      "metadata": {
        "colab": {
          "base_uri": "https://localhost:8080/"
        },
        "id": "kpT3bORvpw5f",
        "outputId": "b1b01562-a1ac-4b07-bcf9-d45b763f5cd6"
      },
      "source": [
        "#Program-2\n",
        "def nature(a):\n",
        "  if (a % 2 != 0):\n",
        "    print(\"Weird\")\n",
        "  elif (a % 2 == 0 and a in range(1, 6)):\n",
        "    print(\"Not Weird\")\n",
        "  elif (a % 2 == 0 and a in range(6, 20)):\n",
        "    print(\"Weird\")\n",
        "  else:\n",
        "    print(\"Not Weird\")\n",
        "a = int(input(\"Enter number: \"))\n",
        "nature(a)"
      ],
      "execution_count": 22,
      "outputs": [
        {
          "output_type": "stream",
          "name": "stdout",
          "text": [
            "Enter number: 8\n",
            "Weird\n"
          ]
        }
      ]
    },
    {
      "cell_type": "code",
      "metadata": {
        "colab": {
          "base_uri": "https://localhost:8080/"
        },
        "id": "KlIrPxQI-nMc",
        "outputId": "21c7c7ec-bb29-4dc3-e1c6-651c0fc6b99b"
      },
      "source": [
        "#Problem-3\n",
        "def function():\n",
        "  n = int(input(\"Enter size of list: \"))\n",
        "  for i in range(0, n):\n",
        "    Arrivals[i] = input()\n",
        "  n = len(Arrivals)\n",
        "  l = int((n-1)/2)\n",
        "  for i in range(l, n-1):\n",
        "     print(Arrivals[i]+\" is fashionably late.\")\n",
        "\n",
        "function()"
      ],
      "execution_count": 44,
      "outputs": [
        {
          "output_type": "stream",
          "name": "stdout",
          "text": [
            "Enter size of list: 7\n",
            "a\n",
            "b\n",
            "c\n",
            "d\n",
            "e\n",
            "f\n",
            "g\n",
            "d is fashionably late.\n",
            "e is fashionably late.\n",
            "f is fashionably late.\n"
          ]
        }
      ]
    },
    {
      "cell_type": "code",
      "metadata": {
        "id": "WB5kM8YLEGWw"
      },
      "source": [
        "#Problem-4\n"
      ],
      "execution_count": null,
      "outputs": []
    },
    {
      "cell_type": "code",
      "metadata": {
        "colab": {
          "base_uri": "https://localhost:8080/"
        },
        "id": "hDjGzwlAT6jP",
        "outputId": "57949477-979f-4119-e02a-848a192f569d"
      },
      "source": [
        "#Problem-5\n",
        "bp = int(input())\n",
        "da = 0.4*bp\n",
        "hra = 0.2*bp\n",
        "gp = bp+da+hra\n",
        "print(gp)"
      ],
      "execution_count": 45,
      "outputs": [
        {
          "output_type": "stream",
          "name": "stdout",
          "text": [
            "100\n",
            "160.0\n"
          ]
        }
      ]
    }
  ]
}