{
  "nbformat": 4,
  "nbformat_minor": 0,
  "metadata": {
    "colab": {
      "name": "Untitled10.ipynb",
      "provenance": [],
      "collapsed_sections": [],
      "authorship_tag": "ABX9TyPrJ55EhnqEwGKM9KdjOORb",
      "include_colab_link": true
    },
    "kernelspec": {
      "name": "python3",
      "display_name": "Python 3"
    },
    "language_info": {
      "name": "python"
    }
  },
  "cells": [
    {
      "cell_type": "markdown",
      "metadata": {
        "id": "view-in-github",
        "colab_type": "text"
      },
      "source": [
        "<a href=\"https://colab.research.google.com/github/LuckYYadav15/OOPS_Assignment/blob/main/Python%20Basic%20Module%20(06-09-2021)ipynb\" target=\"_parent\"><img src=\"https://colab.research.google.com/assets/colab-badge.svg\" alt=\"Open In Colab\"/></a>"
      ]
    },
    {
      "cell_type": "code",
      "metadata": {
        "colab": {
          "base_uri": "https://localhost:8080/"
        },
        "id": "hIQp5m3kUSdC",
        "outputId": "f2f77471-d836-4e98-9636-6f6cd0887c06"
      },
      "source": [
        "class OOPClass:\n",
        "    strength = 132\n",
        "    def read_number(self):\n",
        "      self.strength = 786\n",
        "      print(self.strength)\n",
        "    print(strength)\n",
        "obj = OOPClass()           # creating object of the class\n",
        "obj.read_number() "
      ],
      "execution_count": null,
      "outputs": [
        {
          "output_type": "stream",
          "name": "stdout",
          "text": [
            "132\n",
            "786\n"
          ]
        }
      ]
    },
    {
      "cell_type": "code",
      "metadata": {
        "colab": {
          "base_uri": "https://localhost:8080/"
        },
        "id": "6019SPq4W2l7",
        "outputId": "49e8f1ac-f92c-4441-c890-a639f0768dc8"
      },
      "source": [
        "class Person:\n",
        "    def __init__(self, name, age):\n",
        "        self.name = name\n",
        "        self.__age = age #private attribute\n",
        "    @property\n",
        "    def age(self):\n",
        "        print(\"Retrieving {}s age...\".format(self.name))\n",
        "        return self.__age\n",
        "    @age.setter\n",
        "    def age(self, value):\n",
        "        if type(value) is not int:\n",
        "            print(\"Age must be a number\")\n",
        "        if value < 0:\n",
        "            print(\"Age can’t be negative\")\n",
        "        print(\"Setting {}s to {}...\".format(self.name, value))\n",
        "        self.__age = age\n",
        "p1 = Person(\"Arun\", 21)\n",
        "print(p1.name)\n",
        "print(p1.age)\n",
        "#print(p1.age(-23))"
      ],
      "execution_count": null,
      "outputs": [
        {
          "output_type": "stream",
          "name": "stdout",
          "text": [
            "Arun\n",
            "Retrieving Aruns age...\n",
            "21\n"
          ]
        }
      ]
    },
    {
      "cell_type": "code",
      "metadata": {
        "colab": {
          "base_uri": "https://localhost:8080/"
        },
        "id": "hZFofs4GcH_N",
        "outputId": "0bee4d55-c224-4516-fc0a-d5735f250189"
      },
      "source": [
        "class State:\n",
        "  def __init__(self, name):\n",
        "    self.name = name\n",
        "  def sayname(self):\n",
        "    print(f\"I am from {self.name}\")\n",
        "s1 = State(\"Rajasthan\")\n",
        "s2 = State(\"Delhi\")\n",
        "s3 = State(\"UP\")\n",
        "l = [s1.sayname(), s2.sayname(), s3.sayname()]\n",
        "for i in range(0,3):\n",
        "  l[i]"
      ],
      "execution_count": null,
      "outputs": [
        {
          "output_type": "stream",
          "name": "stdout",
          "text": [
            "I am from Rajasthan\n",
            "I am from Delhi\n",
            "I am from UP\n"
          ]
        }
      ]
    },
    {
      "cell_type": "code",
      "metadata": {
        "colab": {
          "base_uri": "https://localhost:8080/"
        },
        "id": "8KX-sOEIdXex",
        "outputId": "bbf7cef5-3c8a-44ef-f058-fa603357c8fc"
      },
      "source": [
        "class Car:\n",
        "  __colour = \"\"\n",
        "  __name = \"\"\n",
        "  def __init__(self):\n",
        "    print(self.__colour)\n",
        "    self.__colour = \"Red\" \n",
        "    print(self.__colour)\n",
        "    self.__name = \"Buggati\"\n",
        "  def drive(self):\n",
        "    print(f\"Colour of car is {self.__colour}\")\n",
        "c1 = Car()\n",
        "c1.drive()\n",
        "colour = \"Purple\"\n",
        "c1.__colour = \"Brown\"\n",
        "print(c1.__colour)"
      ],
      "execution_count": null,
      "outputs": [
        {
          "output_type": "stream",
          "name": "stdout",
          "text": [
            "\n",
            "Red\n",
            "Colour of car is Red\n",
            "Brown\n"
          ]
        }
      ]
    },
    {
      "cell_type": "code",
      "metadata": {
        "id": "L8qJRhGveiDg",
        "colab": {
          "base_uri": "https://localhost:8080/"
        },
        "outputId": "f74883ac-3a73-4d8c-cb76-c4c132662dd4"
      },
      "source": [
        "class Car:\n",
        "    __maxspeed = 0\n",
        "    max = 8\n",
        "    __name = \"\"    \n",
        "    def __init__(self):\n",
        "        self.__maxspeed = 400\n",
        "        self.__name = \"Supercar\"    \n",
        "    def drive(self):\n",
        "        print('driving. maxspeed ' + str(self.__maxspeed))\n",
        "redcar = Car()\n",
        "redcar.drive()\n",
        "mxspeed =10\n",
        "redcar.__maxspeed = 10        # will not change variable because its private\n",
        "redcar.drive()\n",
        "print(Car.max)"
      ],
      "execution_count": null,
      "outputs": [
        {
          "output_type": "stream",
          "name": "stdout",
          "text": [
            "driving. maxspeed 400\n",
            "driving. maxspeed 400\n",
            "8\n"
          ]
        }
      ]
    },
    {
      "cell_type": "code",
      "metadata": {
        "colab": {
          "base_uri": "https://localhost:8080/"
        },
        "id": "_-bkASrJkWx4",
        "outputId": "5f8423b3-0ec2-4809-c11a-2c4eb93bf9eb"
      },
      "source": [
        "class Institute:\n",
        "  def __init__(self):\n",
        "    self.name = \"IIIT Dharwad\"\n",
        "    self.__location = \"Dharwad, Karnataka\"\n",
        "    print(self.__location)\n",
        "class Derived(Institute):\n",
        "  def __init__(self):\n",
        "    Institute.__init__(self)\n",
        "    print(\"Name of my institute is: \",self.name)\n",
        "Obj1 = Institute()\n",
        "print(Obj1.name)\n",
        "Obj2 = Derived()"
      ],
      "execution_count": null,
      "outputs": [
        {
          "output_type": "stream",
          "name": "stdout",
          "text": [
            "Dharwad, Karnataka\n",
            "IIIT Dharwad\n",
            "Dharwad, Karnataka\n",
            "Name of my institute is:  IIIT Dharwad\n"
          ]
        }
      ]
    },
    {
      "cell_type": "code",
      "metadata": {
        "colab": {
          "base_uri": "https://localhost:8080/"
        },
        "id": "_0tDDww0nLOJ",
        "outputId": "0e3dd985-6d6b-44d1-da5e-2b7d6b574b8b"
      },
      "source": [
        "class student:\n",
        "  count=0\n",
        "  def __init__(self,num) :\n",
        "    student.count=student.count+num\n",
        "s1=student(4)\n",
        "s2=student(5)\n",
        "s3=student(6)\n",
        "print(\"number of students in OOP class :\", student.count)\n",
        "print(\"number of students in OOP class:\", s1.count, s2.count, s3.count)"
      ],
      "execution_count": null,
      "outputs": [
        {
          "output_type": "stream",
          "name": "stdout",
          "text": [
            "number of students in OOP class : 15\n",
            "number of students in OOP class: 15 15 15\n"
          ]
        }
      ]
    },
    {
      "cell_type": "code",
      "metadata": {
        "colab": {
          "base_uri": "https://localhost:8080/"
        },
        "id": "2SVpidEvoGqi",
        "outputId": "358d529f-bd6a-4d9c-be3d-ef2701c31a85"
      },
      "source": [
        "class student:\n",
        "  count=0\n",
        "  def __init__(self) :\n",
        "    print(\"This is non parametrized constructor with no arguments or parameters\") \n",
        "\n",
        "  def shownum(self,num):\n",
        "       print(\"number of students in OOP class :\", num * num)\n",
        "       return num\n",
        "s1=student()\n",
        "s2=student()\n",
        "s3=student()\n",
        "result1= s1.shownum(5)\n",
        "result2= s2.shownum(6)\n",
        "print(\"number of students in OOP class :\", result1,result2)"
      ],
      "execution_count": null,
      "outputs": [
        {
          "output_type": "stream",
          "name": "stdout",
          "text": [
            "This is non parametrized constructor with no arguments or parameters\n",
            "This is non parametrized constructor with no arguments or parameters\n",
            "This is non parametrized constructor with no arguments or parameters\n",
            "number of students in OOP class : 25\n",
            "number of students in OOP class : 36\n",
            "number of students in OOP class : 5 6\n"
          ]
        }
      ]
    },
    {
      "cell_type": "code",
      "metadata": {
        "colab": {
          "base_uri": "https://localhost:8080/"
        },
        "id": "Dhvny1_toRrO",
        "outputId": "a31eb927-bc6f-4552-f02b-6ed06ffd01b4"
      },
      "source": [
        "class student:\n",
        "  count=0\n",
        "  def __init__(self,stname,stage) :\n",
        "    self.name = stname\n",
        "    self.age = stage\n",
        "    print(\"This is parametrized constructor with no arguments or parameters\") \n",
        "\n",
        "  def display(self,styear):\n",
        "       print(\"Student joined IIIT Dharwad   :\", self.name, self.age, styear)\n",
        "       if styear <= 2020 :\n",
        "         print (\"Student has completed the course\")\n",
        "       return \n",
        "s1=student(\"Ram\",21)\n",
        "s2=student(\"Krishna\",23)\n",
        "s3=student(\"Kumar\",22)\n",
        "s1.display(2021)\n",
        "s2.display(2019)"
      ],
      "execution_count": null,
      "outputs": [
        {
          "output_type": "stream",
          "name": "stdout",
          "text": [
            "This is parametrized constructor with no arguments or parameters\n",
            "This is parametrized constructor with no arguments or parameters\n",
            "This is parametrized constructor with no arguments or parameters\n",
            "Student joined IIIT Dharwad   : Ram 21 2021\n",
            "Student joined IIIT Dharwad   : Krishna 23 2019\n",
            "Student has completed the course\n"
          ]
        }
      ]
    },
    {
      "cell_type": "code",
      "metadata": {
        "colab": {
          "base_uri": "https://localhost:8080/"
        },
        "id": "mFeNbBzXogXI",
        "outputId": "36326b25-dc12-4bd9-a755-a54a92018466"
      },
      "source": [
        "class student:\n",
        "    name = \"Ram\"\n",
        "    age =  21\n",
        "    def display(self,styear):\n",
        "       print(\"Student joined IIIT Dharwad   :\", self.name, self.age, styear)\n",
        "       if styear <= 2020 :\n",
        "         print (\"Student has completed the course\")\n",
        "       return \n",
        "s1=student()\n",
        "s2=student()\n",
        "s3=student()\n",
        "s1.display(2021)\n",
        "s2.display(2019)"
      ],
      "execution_count": null,
      "outputs": [
        {
          "output_type": "stream",
          "name": "stdout",
          "text": [
            "Student joined IIIT Dharwad   : Ram 21 2021\n",
            "Student joined IIIT Dharwad   : Ram 21 2019\n",
            "Student has completed the course\n"
          ]
        }
      ]
    },
    {
      "cell_type": "code",
      "metadata": {
        "colab": {
          "base_uri": "https://localhost:8080/"
        },
        "id": "3TwNQ6SFlozd",
        "outputId": "a239333e-bd40-4881-fd1e-967bf09332e3"
      },
      "source": [
        "class Car:\n",
        "  def __init__(self):\n",
        "    self.name = \"BMW\"\n",
        "    self.model = \"A20\"\n",
        "    self.year = \"2020\"\n",
        "    print(f\"Car's name is: {self.name}\")\n",
        "  def details(self):\n",
        "    print(f\"Car model is: {self.model} \\n Car manufactured in year: {self.year} \\n Car is of {self.__type} type .\")\n",
        "    print(\"Hello\")\n",
        "  def details(self):\n",
        "    print(f\"Car model is: {self.model} \\nCar manufactured in year: {self.year} .\")\n",
        "class Truck(Car):\n",
        "  #__type = \" \"\n",
        "  def __init__(self):\n",
        "    Car.__init__(self)\n",
        "    print(f\"Truck's name is: {self.name}\")\n",
        "  def details(self):\n",
        "    self.model = \"Z 19\"\n",
        "    print(f\"Truck model is: {self.model} \\nTruck manufactured in year: {self.year} .\")\n",
        "class Bike(Truck):\n",
        "  def __init__(self):\n",
        "    Truck.__init__(self)\n",
        "    self.year = 2019\n",
        "    print(f\"Bike's name is: {self.name}\")\n",
        "  def details(self):\n",
        "    self.model = \" B6 12\"\n",
        "    print(f\"Bike model is: {self.model} \\nBike manufactured in year: {self.year} .\") \n",
        "C1 = Car()\n",
        "C1.details()\n",
        "T1 = Truck()\n",
        "T1.details()\n",
        "B1 = Bike()\n",
        "B1.details()"
      ],
      "execution_count": null,
      "outputs": [
        {
          "output_type": "stream",
          "name": "stdout",
          "text": [
            "Car's name is: BMW\n",
            "Car model is: A20 \n",
            "Car manufactured in year: 2020 .\n",
            "Car's name is: BMW\n",
            "Truck's name is: BMW\n",
            "Truck model is: Z 19 \n",
            "Truck manufactured in year: 2020 .\n",
            "Car's name is: BMW\n",
            "Truck's name is: BMW\n",
            "Bike's name is: BMW\n",
            "Bike model is:  B6 12 \n",
            "Bike manufactured in year: 2019 .\n"
          ]
        }
      ]
    }
  ]
}